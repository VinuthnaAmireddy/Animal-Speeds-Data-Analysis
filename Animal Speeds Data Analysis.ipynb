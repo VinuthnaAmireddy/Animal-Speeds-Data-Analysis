{
 "cells": [
  {
   "cell_type": "markdown",
   "metadata": {},
   "source": [
    "# ANIMAL SPEEDS DATA ANALYSIS"
   ]
  },
  {
   "cell_type": "code",
   "execution_count": 1,
   "metadata": {},
   "outputs": [],
   "source": [
    "import numpy as np\n",
    "import pandas as pd\n",
    "import matplotlib.pyplot as plt\n",
    "import seaborn as sns\n",
    "%matplotlib inline\n",
    "import math\n",
    "from scipy import stats\n",
    "from bioinfokit.analys import stat\n",
    "from scipy.stats import norm\n",
    "from scipy.stats import f_oneway\n",
    "from sklearn.linear_model import LinearRegression\n",
    "sns.set()"
   ]
  },
  {
   "cell_type": "code",
   "execution_count": 2,
   "metadata": {},
   "outputs": [],
   "source": [
    "dataset = pd.read_csv(r'C:\\Users\\ss\\Documents\\Animal_Speeds.csv')"
   ]
  },
  {
   "cell_type": "code",
   "execution_count": 3,
   "metadata": {},
   "outputs": [
    {
     "data": {
      "text/html": [
       "<div>\n",
       "<style scoped>\n",
       "    .dataframe tbody tr th:only-of-type {\n",
       "        vertical-align: middle;\n",
       "    }\n",
       "\n",
       "    .dataframe tbody tr th {\n",
       "        vertical-align: top;\n",
       "    }\n",
       "\n",
       "    .dataframe thead th {\n",
       "        text-align: right;\n",
       "    }\n",
       "</style>\n",
       "<table border=\"1\" class=\"dataframe\">\n",
       "  <thead>\n",
       "    <tr style=\"text-align: right;\">\n",
       "      <th></th>\n",
       "      <th>Animal</th>\n",
       "      <th>Weight</th>\n",
       "      <th>Movement_Type</th>\n",
       "      <th>Highspeed</th>\n",
       "    </tr>\n",
       "  </thead>\n",
       "  <tbody>\n",
       "    <tr>\n",
       "      <th>0</th>\n",
       "      <td>House sparrow</td>\n",
       "      <td>0.04</td>\n",
       "      <td>flying</td>\n",
       "      <td>46.0</td>\n",
       "    </tr>\n",
       "    <tr>\n",
       "      <th>1</th>\n",
       "      <td>Pelican</td>\n",
       "      <td>7.80</td>\n",
       "      <td>flying</td>\n",
       "      <td>65.0</td>\n",
       "    </tr>\n",
       "    <tr>\n",
       "      <th>2</th>\n",
       "      <td>Vulture</td>\n",
       "      <td>11.00</td>\n",
       "      <td>flying</td>\n",
       "      <td>88.0</td>\n",
       "    </tr>\n",
       "    <tr>\n",
       "      <th>3</th>\n",
       "      <td>Pigeon</td>\n",
       "      <td>0.35</td>\n",
       "      <td>flying</td>\n",
       "      <td>80.0</td>\n",
       "    </tr>\n",
       "    <tr>\n",
       "      <th>4</th>\n",
       "      <td>Puffin</td>\n",
       "      <td>0.58</td>\n",
       "      <td>flying</td>\n",
       "      <td>88.0</td>\n",
       "    </tr>\n",
       "  </tbody>\n",
       "</table>\n",
       "</div>"
      ],
      "text/plain": [
       "          Animal  Weight Movement_Type  Highspeed\n",
       "0  House sparrow    0.04        flying       46.0\n",
       "1        Pelican    7.80        flying       65.0\n",
       "2        Vulture   11.00        flying       88.0\n",
       "3         Pigeon    0.35        flying       80.0\n",
       "4         Puffin    0.58        flying       88.0"
      ]
     },
     "execution_count": 3,
     "metadata": {},
     "output_type": "execute_result"
    }
   ],
   "source": [
    "dataset.head()"
   ]
  },
  {
   "cell_type": "code",
   "execution_count": 4,
   "metadata": {},
   "outputs": [
    {
     "name": "stdout",
     "output_type": "stream",
     "text": [
      "<class 'pandas.core.frame.DataFrame'>\n",
      "RangeIndex: 159 entries, 0 to 158\n",
      "Data columns (total 4 columns):\n",
      " #   Column         Non-Null Count  Dtype  \n",
      "---  ------         --------------  -----  \n",
      " 0   Animal         159 non-null    object \n",
      " 1   Weight         159 non-null    float64\n",
      " 2   Movement_Type  159 non-null    object \n",
      " 3   Highspeed      159 non-null    float64\n",
      "dtypes: float64(2), object(2)\n",
      "memory usage: 3.8+ KB\n"
     ]
    }
   ],
   "source": [
    "dataset.info()"
   ]
  },
  {
   "cell_type": "markdown",
   "metadata": {},
   "source": [
    "# Exploratory Data Analysis(EDA) and possible Data Transformations\n",
    "Since the columns \"Animal and Movement_Type\" are of Object datatype converting into String datatype allows us to perform a proper analysis."
   ]
  },
  {
   "cell_type": "code",
   "execution_count": 5,
   "metadata": {},
   "outputs": [
    {
     "data": {
      "text/plain": [
       "0            House sparrow\n",
       "1                  Pelican\n",
       "2                  Vulture\n",
       "3                   Pigeon\n",
       "4                   Puffin\n",
       "              ...         \n",
       "154    Shortfin mako shark\n",
       "155      Great white Shark\n",
       "156           Leopard seal\n",
       "157          Basking shark\n",
       "158          Ocean sunfish\n",
       "Name: Animal, Length: 159, dtype: string"
      ]
     },
     "execution_count": 5,
     "metadata": {},
     "output_type": "execute_result"
    }
   ],
   "source": [
    "dataset['Animal'].astype(\"string\")"
   ]
  },
  {
   "cell_type": "code",
   "execution_count": 6,
   "metadata": {},
   "outputs": [
    {
     "data": {
      "text/plain": [
       "0        flying\n",
       "1        flying\n",
       "2        flying\n",
       "3        flying\n",
       "4        flying\n",
       "         ...   \n",
       "154    swimming\n",
       "155    swimming\n",
       "156    swimming\n",
       "157    swimming\n",
       "158    swimming\n",
       "Name: Movement_Type, Length: 159, dtype: string"
      ]
     },
     "execution_count": 6,
     "metadata": {},
     "output_type": "execute_result"
    }
   ],
   "source": [
    "dataset['Movement_Type'].astype(\"string\")"
   ]
  },
  {
   "cell_type": "code",
   "execution_count": 7,
   "metadata": {},
   "outputs": [
    {
     "data": {
      "text/plain": [
       "Animal           0\n",
       "Weight           0\n",
       "Movement_Type    0\n",
       "Highspeed        0\n",
       "dtype: int64"
      ]
     },
     "execution_count": 7,
     "metadata": {},
     "output_type": "execute_result"
    }
   ],
   "source": [
    "dataset.isnull().sum()"
   ]
  },
  {
   "cell_type": "code",
   "execution_count": 8,
   "metadata": {},
   "outputs": [
    {
     "data": {
      "text/html": [
       "<div>\n",
       "<style scoped>\n",
       "    .dataframe tbody tr th:only-of-type {\n",
       "        vertical-align: middle;\n",
       "    }\n",
       "\n",
       "    .dataframe tbody tr th {\n",
       "        vertical-align: top;\n",
       "    }\n",
       "\n",
       "    .dataframe thead th {\n",
       "        text-align: right;\n",
       "    }\n",
       "</style>\n",
       "<table border=\"1\" class=\"dataframe\">\n",
       "  <thead>\n",
       "    <tr style=\"text-align: right;\">\n",
       "      <th></th>\n",
       "      <th>Weight</th>\n",
       "      <th>Highspeed</th>\n",
       "    </tr>\n",
       "  </thead>\n",
       "  <tbody>\n",
       "    <tr>\n",
       "      <th>count</th>\n",
       "      <td>159.000000</td>\n",
       "      <td>159.000000</td>\n",
       "    </tr>\n",
       "    <tr>\n",
       "      <th>mean</th>\n",
       "      <td>1994.115969</td>\n",
       "      <td>52.640881</td>\n",
       "    </tr>\n",
       "    <tr>\n",
       "      <th>std</th>\n",
       "      <td>12285.311105</td>\n",
       "      <td>34.460258</td>\n",
       "    </tr>\n",
       "    <tr>\n",
       "      <th>min</th>\n",
       "      <td>0.001000</td>\n",
       "      <td>1.500000</td>\n",
       "    </tr>\n",
       "    <tr>\n",
       "      <th>25%</th>\n",
       "      <td>2.625000</td>\n",
       "      <td>30.000000</td>\n",
       "    </tr>\n",
       "    <tr>\n",
       "      <th>50%</th>\n",
       "      <td>22.000000</td>\n",
       "      <td>48.000000</td>\n",
       "    </tr>\n",
       "    <tr>\n",
       "      <th>75%</th>\n",
       "      <td>310.000000</td>\n",
       "      <td>70.000000</td>\n",
       "    </tr>\n",
       "    <tr>\n",
       "      <th>max</th>\n",
       "      <td>140000.000000</td>\n",
       "      <td>195.000000</td>\n",
       "    </tr>\n",
       "  </tbody>\n",
       "</table>\n",
       "</div>"
      ],
      "text/plain": [
       "              Weight   Highspeed\n",
       "count     159.000000  159.000000\n",
       "mean     1994.115969   52.640881\n",
       "std     12285.311105   34.460258\n",
       "min         0.001000    1.500000\n",
       "25%         2.625000   30.000000\n",
       "50%        22.000000   48.000000\n",
       "75%       310.000000   70.000000\n",
       "max    140000.000000  195.000000"
      ]
     },
     "execution_count": 8,
     "metadata": {},
     "output_type": "execute_result"
    }
   ],
   "source": [
    "dataset.describe() #obtaining statistical information"
   ]
  },
  {
   "cell_type": "code",
   "execution_count": 9,
   "metadata": {},
   "outputs": [
    {
     "data": {
      "text/plain": [
       "running     78\n",
       "swimming    41\n",
       "flying      27\n",
       "climbing    13\n",
       "Name: Movement_Type, dtype: int64"
      ]
     },
     "execution_count": 9,
     "metadata": {},
     "output_type": "execute_result"
    }
   ],
   "source": [
    "dataset[\"Movement_Type\"].value_counts()"
   ]
  },
  {
   "cell_type": "code",
   "execution_count": 10,
   "metadata": {},
   "outputs": [
    {
     "name": "stdout",
     "output_type": "stream",
     "text": [
      " Skewness of Weight =   9.53606366348767\n",
      " Skewness of Highspeed =   1.0447180091747341\n"
     ]
    }
   ],
   "source": [
    "# Skewness Function\n",
    "\n",
    "def skewness(x):\n",
    "    res = 0 \n",
    "    m = x.mean()\n",
    "    s = x.std()\n",
    "    for i in x:\n",
    "        res += (i-m) * (i-m) * (i-m)\n",
    "    res /= (len(x) * s * s * s)\n",
    "    return res\n",
    "\n",
    "print (\" Skewness of Weight =  \", skewness ( dataset['Weight'] ))\n",
    "print (\" Skewness of Highspeed =  \", skewness ( dataset['Highspeed'] ))"
   ]
  },
  {
   "cell_type": "code",
   "execution_count": 11,
   "metadata": {},
   "outputs": [
    {
     "data": {
      "text/plain": [
       "(array([ 2.,  0.,  1., 10.,  2.,  3.,  1.,  5.,  0.,  1.,  4., 10.,  5.,\n",
       "         1.,  1., 13.,  0.,  0.,  1., 11.,  5.,  0.,  7.,  7.,  1.,  4.,\n",
       "         1.,  7.,  0.,  1.,  3.,  1.,  0.,  1.,  0., 12.,  0.,  0.,  0.,\n",
       "         4.,  2.,  0.,  0.,  4.,  2.,  1.,  0.,  1.,  0.,  0.,  2.,  1.,\n",
       "         0.,  0.,  0.,  0.,  0.,  0.,  0.,  2.,  1.,  1.,  0.,  0.,  0.,\n",
       "         0.,  1.,  0.,  0.,  0.,  1.,  1.,  0.,  0.,  0.,  0.,  0.,  0.,\n",
       "         0.,  0.,  0.,  0.,  0.,  0.,  0.,  0.,  0.,  0.,  0.,  0.,  0.,\n",
       "         0.,  1.,  0.]),\n",
       " array([ 10,  12,  14,  16,  18,  20,  22,  24,  26,  28,  30,  32,  34,\n",
       "         36,  38,  40,  42,  44,  46,  48,  50,  52,  54,  56,  58,  60,\n",
       "         62,  64,  66,  68,  70,  72,  74,  76,  78,  80,  82,  84,  86,\n",
       "         88,  90,  92,  94,  96,  98, 100, 102, 104, 106, 108, 110, 112,\n",
       "        114, 116, 118, 120, 122, 124, 126, 128, 130, 132, 134, 136, 138,\n",
       "        140, 142, 144, 146, 148, 150, 152, 154, 156, 158, 160, 162, 164,\n",
       "        166, 168, 170, 172, 174, 176, 178, 180, 182, 184, 186, 188, 190,\n",
       "        192, 194, 196, 198]),\n",
       " <BarContainer object of 94 artists>)"
      ]
     },
     "execution_count": 11,
     "metadata": {},
     "output_type": "execute_result"
    },
    {
     "data": {
      "image/png": "[encoded data removed]",
      "text/plain": [
       "<Figure size 864x432 with 1 Axes>"
      ]
     },
     "metadata": {},
     "output_type": "display_data"
    }
   ],
   "source": [
    "plt.figure(figsize=(12, 6))\n",
    "plt.title('General Distribution of Highspeed w.r.t Weight',size=18)\n",
    "plt.xlabel('Highspeed (Km/hour)',size=15)\n",
    "plt.ylabel('Weight (in Kg)',size=15)\n",
    "plt.hist(dataset.Highspeed, bins=np.arange(10,200,2), color='purple')"
   ]
  },
  {
   "cell_type": "code",
   "execution_count": 12,
   "metadata": {},
   "outputs": [
    {
     "data": {
      "image/png": "[encoded data removed]",
      "text/plain": [
       "<Figure size 1296x432 with 1 Axes>"
      ]
     },
     "metadata": {},
     "output_type": "display_data"
    }
   ],
   "source": [
    "# Movement_Type vs Highspeed\n",
    "sns.catplot(y = \"Highspeed\", x = \"Movement_Type\", data = dataset.sort_values(\"Highspeed\", ascending = False), kind=\"boxen\", height = 6, aspect = 3)\n",
    "plt.show()"
   ]
  },
  {
   "cell_type": "markdown",
   "metadata": {},
   "source": [
    "# a) Detailed Descriptive Analysis of the data set."
   ]
  },
  {
   "cell_type": "code",
   "execution_count": 13,
   "metadata": {},
   "outputs": [
    {
     "name": "stdout",
     "output_type": "stream",
     "text": [
      "MEAN values of weight and highspeed with respect to Movement Type:                    Weight  Highspeed\n",
      "Movement_Type                        \n",
      "climbing         40.285000  36.923077\n",
      "flying            6.290704  90.259259\n",
      "running         295.632577  52.582051\n",
      "swimming       7153.940098  32.963415\n",
      "VARIENCE of weight and highspeed with respect to Movement Type:                     Weight    Highspeed\n",
      "Movement_Type                           \n",
      "climbing       3.774053e+03   142.576923\n",
      "flying         8.961863e+01  1707.660969\n",
      "running        5.248597e+05   642.112141\n",
      "swimming       5.583348e+08   869.441878\n",
      "STANDARD DEVIATION of weight and highspeed with respect to Movement Type:                     Weight  Highspeed\n",
      "Movement_Type                         \n",
      "climbing          61.433320  11.940558\n",
      "flying             9.466712  41.323855\n",
      "running          724.472048  25.339932\n",
      "swimming       23629.108246  29.486300\n"
     ]
    }
   ],
   "source": [
    "groupby_m = dataset.groupby(['Movement_Type']).mean() \n",
    "groupby_v = dataset.groupby(['Movement_Type']).var()\n",
    "groupby_s = dataset.groupby(['Movement_Type']).std()\n",
    "\n",
    "#By this we knew in a descriptive way how avg weight influences highspeed\n",
    "print('MEAN values of weight and highspeed with respect to Movement Type:' + str(groupby_m)) \n",
    "print('VARIENCE of weight and highspeed with respect to Movement Type:' + str(groupby_v))\n",
    "print('STANDARD DEVIATION of weight and highspeed with respect to Movement Type:' + str(groupby_s))"
   ]
  },
  {
   "cell_type": "markdown",
   "metadata": {},
   "source": [
    "It is also clear from above statistical analysis that,the intuition larger animals are generally faster than smaller animals is FALSE.\n",
    "The heaviest animals are not the fastest ones, instead the lower the avg.weight the higher is the highspeed. They are negative coefficients."
   ]
  },
  {
   "cell_type": "code",
   "execution_count": 14,
   "metadata": {},
   "outputs": [
    {
     "data": {
      "image/png": "[encoded data removed]",
      "text/plain": [
       "<Figure size 864x432 with 2 Axes>"
      ]
     },
     "metadata": {},
     "output_type": "display_data"
    }
   ],
   "source": [
    "# Finds correlation between Independent and dependent attributes\n",
    "\n",
    "plt.figure(figsize = (12,6))\n",
    "sns.heatmap(dataset.corr(), annot = True, cmap = \"RdYlGn\")\n",
    "\n",
    "plt.show()"
   ]
  },
  {
   "cell_type": "code",
   "execution_count": 15,
   "metadata": {},
   "outputs": [
    {
     "data": {
      "text/plain": [
       "Text(0, 0.5, 'Weight (in Kg)')"
      ]
     },
     "execution_count": 15,
     "metadata": {},
     "output_type": "execute_result"
    },
    {
     "data": {
      "image/png": "[encoded data removed]",
      "text/plain": [
       "<Figure size 864x432 with 1 Axes>"
      ]
     },
     "metadata": {},
     "output_type": "display_data"
    }
   ],
   "source": [
    "# Scatter plot of Weight and Highspeed\n",
    "\n",
    "ax1 = dataset[dataset['Movement_Type'] == 'running'].plot(kind='scatter', x='Highspeed', y='Weight', color='magenta', alpha=0.5, figsize=(12, 6))\n",
    "dataset[dataset['Movement_Type'] == 'swimming'].plot(kind='scatter', x='Highspeed', y='Weight', color='blue', alpha=0.5, figsize=(12 ,6), ax=ax1)\n",
    "dataset[dataset['Movement_Type'] == 'climbing'].plot(kind='scatter', x='Highspeed', y='Weight', color='green', alpha=0.5, figsize=(12 ,6), ax=ax1)\n",
    "dataset[dataset['Movement_Type'] == 'flying'].plot(kind='scatter', x='Highspeed', y='Weight', color='yellow', alpha=0.5, figsize=(12 ,6), ax=ax1)\n",
    "plt.legend(labels=['Running', 'Swimming', 'Climbing', 'Flying'])\n",
    "plt.title('Relationship between Weight and Highspeed considering Movement Types', size=18)\n",
    "plt.xlabel('Highspeed (Km/hour)',size=15)\n",
    "plt.ylabel('Weight (in Kg)',size=15)"
   ]
  },
  {
   "cell_type": "markdown",
   "metadata": {},
   "source": [
    "This scatterplot clearly shows that the coefficients have a negative linear relationship with eachother,i.e If weight increases highspeed decreases and vice versa."
   ]
  },
  {
   "cell_type": "markdown",
   "metadata": {},
   "source": [
    "# b) Performing Linear Regresssion with scatter plot to analyze relationship between Weight and Highspeed taking into account covariable Movement Type"
   ]
  },
  {
   "cell_type": "code",
   "execution_count": 16,
   "metadata": {},
   "outputs": [
    {
     "name": "stdout",
     "output_type": "stream",
     "text": [
      "[ -2.31764338 417.49902019]\n",
      "[ -11.00190739 7516.60053255]\n",
      "[-0.02355144  8.4164396 ]\n",
      "[ 0.05830771 38.13210008]\n"
     ]
    }
   ],
   "source": [
    "df_running = dataset[dataset['Movement_Type'] == 'running']\n",
    "df_swimming = dataset[dataset['Movement_Type'] == 'swimming']\n",
    "df_flying = dataset[dataset['Movement_Type'] == 'flying']\n",
    "df_climbing = dataset[dataset['Movement_Type'] == 'climbing']\n",
    "\n",
    "# polynomial\n",
    "run_fit = np.polyfit(df_running.Highspeed, df_running.Weight, 1)\n",
    "swim_fit = np.polyfit(df_swimming.Highspeed, df_swimming.Weight, 1)\n",
    "fly_fit = np.polyfit(df_flying.Highspeed, df_flying.Weight, 1)\n",
    "climb_fit = np.polyfit(df_climbing.Highspeed, df_climbing.Weight, 1)\n",
    "print(run_fit)\n",
    "print(swim_fit)\n",
    "print(fly_fit)\n",
    "print(climb_fit)\n"
   ]
  },
  {
   "cell_type": "code",
   "execution_count": 17,
   "metadata": {},
   "outputs": [
    {
     "data": {
      "image/png": "[encoded data removed]",
      "text/plain": [
       "<Figure size 720x504 with 1 Axes>"
      ]
     },
     "metadata": {},
     "output_type": "display_data"
    }
   ],
   "source": [
    "# scatter plots and regression lines\n",
    "\n",
    "df_running = dataset[dataset['Movement_Type'] == 'running']\n",
    "df_swimming = dataset[dataset['Movement_Type'] == 'swimming']\n",
    "df_flying = dataset[dataset['Movement_Type'] == 'flying']\n",
    "df_climbing = dataset[dataset['Movement_Type'] == 'climbing']\n",
    "\n",
    "# Scatter plots.\n",
    "ax1 = df_running.plot(kind='scatter', x='Highspeed', y='Weight', color='magenta', alpha=0.5, figsize=(10, 7))\n",
    "df_swimming.plot(kind='scatter', x='Highspeed', y='Weight', color='blue', alpha=0.5, figsize=(10, 7), ax=ax1)\n",
    "df_flying.plot(kind='scatter', x='Highspeed', y='Weight', color='yellow', alpha=0.5, figsize=(10, 7), ax=ax1)\n",
    "df_climbing.plot(kind='scatter', x='Highspeed', y='Weight', color='green', alpha=0.5, figsize=(10, 7), ax=ax1)\n",
    "\n",
    "# regression lines\n",
    "plt.plot(df_running.Highspeed, run_fit[0] * df_running.Highspeed + run_fit[1], color='deeppink', linewidth=2)\n",
    "plt.plot(df_swimming.Highspeed, swim_fit[0] * df_swimming.Highspeed + swim_fit[1], color='darkblue', linewidth=2)\n",
    "plt.plot(df_flying.Highspeed, run_fit[0] * df_flying.Highspeed + fly_fit[1], color='red', linewidth=2)\n",
    "plt.plot(df_climbing.Highspeed, run_fit[0] * df_climbing.Highspeed + climb_fit[1], color='darkgreen', linewidth=2)\n",
    "\n",
    "# regression equations\n",
    "plt.text(65, 230, 'y={:.2f}+{:.2f}*x'.format(run_fit[1], run_fit[0]), color='deeppink', size=12)\n",
    "plt.text(70, 130, 'y={:.2f}+{:.2f}*x'.format(swim_fit[1], swim_fit[0]), color='darkblue', size=12)\n",
    "plt.text(65, 230, 'y={:.2f}+{:.2f}*x'.format(fly_fit[1], fly_fit[0]), color='red', size=12)\n",
    "plt.text(70, 130, 'y={:.2f}+{:.2f}*x'.format(climb_fit[1], climb_fit[0]), color='darkgreen', size=12)\n",
    "\n",
    "# legend, title and labels.\n",
    "plt.legend(labels=['Running Regresion Line', 'Swimming Regresion Line', 'Flying Regresion Line', 'Climbing Regresion Line','Running', 'Swimming','Flying','Climbing'])\n",
    "plt.title('Relationship between Highspeed and Weight', size=24)\n",
    "plt.xlabel('Highspeed (Km/hour)',size=18)\n",
    "plt.ylabel('Weight (in Kg)',size=18);"
   ]
  },
  {
   "cell_type": "markdown",
   "metadata": {},
   "source": [
    "# 1) As to perform Multiple Linear Regression we need to Handle Categorical Data \n",
    "# 2) Interpreting the coefficients of Linear Model"
   ]
  },
  {
   "cell_type": "code",
   "execution_count": 18,
   "metadata": {},
   "outputs": [
    {
     "data": {
      "text/html": [
       "<div>\n",
       "<style scoped>\n",
       "    .dataframe tbody tr th:only-of-type {\n",
       "        vertical-align: middle;\n",
       "    }\n",
       "\n",
       "    .dataframe tbody tr th {\n",
       "        vertical-align: top;\n",
       "    }\n",
       "\n",
       "    .dataframe thead th {\n",
       "        text-align: right;\n",
       "    }\n",
       "</style>\n",
       "<table border=\"1\" class=\"dataframe\">\n",
       "  <thead>\n",
       "    <tr style=\"text-align: right;\">\n",
       "      <th></th>\n",
       "      <th>Movement_Type_climbing</th>\n",
       "      <th>Movement_Type_flying</th>\n",
       "      <th>Movement_Type_running</th>\n",
       "      <th>Movement_Type_swimming</th>\n",
       "    </tr>\n",
       "  </thead>\n",
       "  <tbody>\n",
       "    <tr>\n",
       "      <th>0</th>\n",
       "      <td>0</td>\n",
       "      <td>1</td>\n",
       "      <td>0</td>\n",
       "      <td>0</td>\n",
       "    </tr>\n",
       "    <tr>\n",
       "      <th>1</th>\n",
       "      <td>0</td>\n",
       "      <td>1</td>\n",
       "      <td>0</td>\n",
       "      <td>0</td>\n",
       "    </tr>\n",
       "    <tr>\n",
       "      <th>2</th>\n",
       "      <td>0</td>\n",
       "      <td>1</td>\n",
       "      <td>0</td>\n",
       "      <td>0</td>\n",
       "    </tr>\n",
       "    <tr>\n",
       "      <th>3</th>\n",
       "      <td>0</td>\n",
       "      <td>1</td>\n",
       "      <td>0</td>\n",
       "      <td>0</td>\n",
       "    </tr>\n",
       "    <tr>\n",
       "      <th>4</th>\n",
       "      <td>0</td>\n",
       "      <td>1</td>\n",
       "      <td>0</td>\n",
       "      <td>0</td>\n",
       "    </tr>\n",
       "  </tbody>\n",
       "</table>\n",
       "</div>"
      ],
      "text/plain": [
       "   Movement_Type_climbing  Movement_Type_flying  Movement_Type_running  \\\n",
       "0                       0                     1                      0   \n",
       "1                       0                     1                      0   \n",
       "2                       0                     1                      0   \n",
       "3                       0                     1                      0   \n",
       "4                       0                     1                      0   \n",
       "\n",
       "   Movement_Type_swimming  \n",
       "0                       0  \n",
       "1                       0  \n",
       "2                       0  \n",
       "3                       0  \n",
       "4                       0  "
      ]
     },
     "execution_count": 18,
     "metadata": {},
     "output_type": "execute_result"
    }
   ],
   "source": [
    "# As Movement_Type is Nominal Categorical data we will perform OneHotEncoding\n",
    "\n",
    "mt = dataset[[\"Movement_Type\"]]\n",
    "mt = pd.get_dummies(mt)\n",
    "mt.head()"
   ]
  },
  {
   "cell_type": "code",
   "execution_count": 19,
   "metadata": {},
   "outputs": [
    {
     "data": {
      "text/html": [
       "<div>\n",
       "<style scoped>\n",
       "    .dataframe tbody tr th:only-of-type {\n",
       "        vertical-align: middle;\n",
       "    }\n",
       "\n",
       "    .dataframe tbody tr th {\n",
       "        vertical-align: top;\n",
       "    }\n",
       "\n",
       "    .dataframe thead th {\n",
       "        text-align: right;\n",
       "    }\n",
       "</style>\n",
       "<table border=\"1\" class=\"dataframe\">\n",
       "  <thead>\n",
       "    <tr style=\"text-align: right;\">\n",
       "      <th></th>\n",
       "      <th>Animal</th>\n",
       "      <th>Weight</th>\n",
       "      <th>Movement_Type</th>\n",
       "      <th>Highspeed</th>\n",
       "      <th>Movement_Type_climbing</th>\n",
       "      <th>Movement_Type_flying</th>\n",
       "      <th>Movement_Type_running</th>\n",
       "      <th>Movement_Type_swimming</th>\n",
       "    </tr>\n",
       "  </thead>\n",
       "  <tbody>\n",
       "    <tr>\n",
       "      <th>0</th>\n",
       "      <td>House sparrow</td>\n",
       "      <td>0.04</td>\n",
       "      <td>flying</td>\n",
       "      <td>46.0</td>\n",
       "      <td>0</td>\n",
       "      <td>1</td>\n",
       "      <td>0</td>\n",
       "      <td>0</td>\n",
       "    </tr>\n",
       "    <tr>\n",
       "      <th>1</th>\n",
       "      <td>Pelican</td>\n",
       "      <td>7.80</td>\n",
       "      <td>flying</td>\n",
       "      <td>65.0</td>\n",
       "      <td>0</td>\n",
       "      <td>1</td>\n",
       "      <td>0</td>\n",
       "      <td>0</td>\n",
       "    </tr>\n",
       "    <tr>\n",
       "      <th>2</th>\n",
       "      <td>Vulture</td>\n",
       "      <td>11.00</td>\n",
       "      <td>flying</td>\n",
       "      <td>88.0</td>\n",
       "      <td>0</td>\n",
       "      <td>1</td>\n",
       "      <td>0</td>\n",
       "      <td>0</td>\n",
       "    </tr>\n",
       "    <tr>\n",
       "      <th>3</th>\n",
       "      <td>Pigeon</td>\n",
       "      <td>0.35</td>\n",
       "      <td>flying</td>\n",
       "      <td>80.0</td>\n",
       "      <td>0</td>\n",
       "      <td>1</td>\n",
       "      <td>0</td>\n",
       "      <td>0</td>\n",
       "    </tr>\n",
       "    <tr>\n",
       "      <th>4</th>\n",
       "      <td>Puffin</td>\n",
       "      <td>0.58</td>\n",
       "      <td>flying</td>\n",
       "      <td>88.0</td>\n",
       "      <td>0</td>\n",
       "      <td>1</td>\n",
       "      <td>0</td>\n",
       "      <td>0</td>\n",
       "    </tr>\n",
       "  </tbody>\n",
       "</table>\n",
       "</div>"
      ],
      "text/plain": [
       "          Animal  Weight Movement_Type  Highspeed  Movement_Type_climbing  \\\n",
       "0  House sparrow    0.04        flying       46.0                       0   \n",
       "1        Pelican    7.80        flying       65.0                       0   \n",
       "2        Vulture   11.00        flying       88.0                       0   \n",
       "3         Pigeon    0.35        flying       80.0                       0   \n",
       "4         Puffin    0.58        flying       88.0                       0   \n",
       "\n",
       "   Movement_Type_flying  Movement_Type_running  Movement_Type_swimming  \n",
       "0                     1                      0                       0  \n",
       "1                     1                      0                       0  \n",
       "2                     1                      0                       0  \n",
       "3                     1                      0                       0  \n",
       "4                     1                      0                       0  "
      ]
     },
     "execution_count": 19,
     "metadata": {},
     "output_type": "execute_result"
    }
   ],
   "source": [
    "# Concatenate dataframe --> dataset + mt\n",
    "\n",
    "data = pd.concat([dataset, mt], axis = 1)\n",
    "data.head()"
   ]
  },
  {
   "cell_type": "code",
   "execution_count": 20,
   "metadata": {},
   "outputs": [
    {
     "name": "stdout",
     "output_type": "stream",
     "text": [
      "54.65164887042415\n",
      "[-2.81924964e-04 -1.77172146e+01]\n"
     ]
    }
   ],
   "source": [
    "# create linear regression object\n",
    "mlr = LinearRegression()\n",
    "\n",
    "# fit linear regression\n",
    "mlr.fit(data[['Weight', 'Movement_Type_climbing']], data['Highspeed'])\n",
    "#mlr.fit(data[['Weight', 'Movement_Type_flying']], data['Highspeed'])\n",
    "#mlr.fit(data[['Weight', 'Movement_Type_running']], data['Highspeed'])\n",
    "#mlr.fit(data[['Weight', 'Movement_Type_swimming']], data['Highspeed'])\n",
    "\n",
    "# get the slope and intercept of the line best fit.\n",
    "print(mlr.intercept_)\n",
    "\n",
    "print(mlr.coef_)"
   ]
  },
  {
   "cell_type": "code",
   "execution_count": 21,
   "metadata": {},
   "outputs": [
    {
     "name": "stdout",
     "output_type": "stream",
     "text": [
      "45.33498830833482\n",
      "[-1.61941725e-04  4.49252897e+01]\n"
     ]
    }
   ],
   "source": [
    "mlr.fit(data[['Weight', 'Movement_Type_flying']], data['Highspeed'])\n",
    "print(mlr.intercept_)\n",
    "print(mlr.coef_)"
   ]
  },
  {
   "cell_type": "code",
   "execution_count": 22,
   "metadata": {},
   "outputs": [
    {
     "name": "stdout",
     "output_type": "stream",
     "text": [
      "53.67272737725616\n",
      "[-2.68671932e-04 -1.01124792e+00]\n"
     ]
    }
   ],
   "source": [
    "mlr.fit(data[['Weight', 'Movement_Type_running']], data['Highspeed'])\n",
    "print(mlr.intercept_)\n",
    "print(mlr.coef_)"
   ]
  },
  {
   "cell_type": "code",
   "execution_count": 23,
   "metadata": {},
   "outputs": [
    {
     "name": "stdout",
     "output_type": "stream",
     "text": [
      "59.483937313252405\n",
      "[-2.96638773e-05 -2.63083091e+01]\n"
     ]
    }
   ],
   "source": [
    "mlr.fit(data[['Weight', 'Movement_Type_swimming']], data['Highspeed'])\n",
    "print(mlr.intercept_)\n",
    "print(mlr.coef_)"
   ]
  },
  {
   "cell_type": "markdown",
   "metadata": {},
   "source": [
    "# Calculating Pearson Corelation Coefficient"
   ]
  },
  {
   "cell_type": "code",
   "execution_count": 24,
   "metadata": {},
   "outputs": [
    {
     "name": "stdout",
     "output_type": "stream",
     "text": [
      "-0.08106444591487529\n",
      "-0.013729064027144262\n",
      "-0.102806176144271\n",
      "0.011333044318740729\n"
     ]
    }
   ],
   "source": [
    "# dataframes containing movement type\n",
    "df_run = data[data['Movement_Type'] == 'running']\n",
    "df_swim = data[data['Movement_Type'] == 'swimming']\n",
    "df_fly = data[data['Movement_Type'] == 'flying']\n",
    "df_climb = data[data['Movement_Type'] == 'climbing']\n",
    "\n",
    "# pearson correlation coefficient and p-value\n",
    "pearson_coef, p_value = stats.pearsonr(df_run.Weight, df_run.Highspeed)\n",
    "print(pearson_coef)\n",
    "\n",
    "# pearson correlation coefficient and p-value\n",
    "pearson_coef, p_value = stats.pearsonr(df_swim.Weight, df_swim.Highspeed)\n",
    "print(pearson_coef)\n",
    "\n",
    "# pearson correlation coefficient and p-value\n",
    "pearson_coef, p_value = stats.pearsonr(df_fly.Weight, df_fly.Highspeed)\n",
    "print(pearson_coef)\n",
    "\n",
    "# pearson correlation coefficient and p-value\n",
    "pearson_coef, p_value = stats.pearsonr(df_climb.Weight, df_climb.Highspeed)\n",
    "print(pearson_coef)"
   ]
  },
  {
   "cell_type": "code",
   "execution_count": null,
   "metadata": {},
   "outputs": [],
   "source": []
  }
 ],
 "metadata": {
  "kernelspec": {
   "display_name": "Python 3",
   "language": "python",
   "name": "python3"
  },
  "language_info": {
   "codemirror_mode": {
    "name": "ipython",
    "version": 3
   },
   "file_extension": ".py",
   "mimetype": "text/x-python",
   "name": "python",
   "nbconvert_exporter": "python",
   "pygments_lexer": "ipython3",
   "version": "3.8.5"
  }
 },
 "nbformat": 4,
 "nbformat_minor": 4
}
